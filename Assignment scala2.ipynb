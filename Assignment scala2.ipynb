{
 "cells": [
  {
   "cell_type": "code",
   "execution_count": null,
   "metadata": {},
   "outputs": [],
   "source": [
    "'''\n",
    "Task 1:-\n",
    "A Fibonacci series (starting from 1) written in order without any spaces in between, thus\n",
    "producing a sequence of digits.\n",
    "Write a Scala application to find the Nth digit in the sequence.\n",
    "○ Write the function using standard for loop\n",
    "○ Write the function using recursion\n",
    "'''\n"
   ]
  },
  {
   "cell_type": "code",
   "execution_count": 16,
   "metadata": {},
   "outputs": [],
   "source": [
    "# function using standard for loop\n",
    "def nth_fibonacci_digit_forloop(n):\n",
    "    prev_minus_two= 1\n",
    "    prev_minus_one= 1\n",
    "    if(n==1 or n==2):\n",
    "        return 1\n",
    "    else:\n",
    "        for i in range(3,n+1):\n",
    "            curr= prev_minus_one+ prev_minus_two\n",
    "            prev_minus_two= prev_minus_one\n",
    "            prev_minus_one= curr\n",
    "        return curr    \n",
    "    "
   ]
  },
  {
   "cell_type": "code",
   "execution_count": 18,
   "metadata": {},
   "outputs": [
    {
     "name": "stdout",
     "output_type": "stream",
     "text": [
      "5th fiboncci number is :5 \n"
     ]
    }
   ],
   "source": [
    "n=5  \n",
    "number= nth_fibonacci_digit_forloop(n)  \n",
    "print(\"{}th fiboncci number is :{} \".format(n,number))"
   ]
  },
  {
   "cell_type": "code",
   "execution_count": 5,
   "metadata": {},
   "outputs": [],
   "source": [
    "# Write the function using recursion\n",
    "def nth_fibonacci_digit(n):\n",
    "    if(n==1 or n==2):\n",
    "        return 1\n",
    "    else:\n",
    "        return nth_fibonacci_digit(n-1)+ nth_fibonacci_digit(n-2)\n"
   ]
  },
  {
   "cell_type": "code",
   "execution_count": 6,
   "metadata": {},
   "outputs": [
    {
     "name": "stdout",
     "output_type": "stream",
     "text": [
      "6th fiboncci number is :8 \n"
     ]
    }
   ],
   "source": [
    "n=6    \n",
    "number= nth_fibonacci_digit(n)  \n",
    "print(\"{}th fiboncci number is :{} \".format(n,number))"
   ]
  },
  {
   "cell_type": "code",
   "execution_count": null,
   "metadata": {},
   "outputs": [],
   "source": [
    "'''\n",
    "Task 2:-\n",
    "Create a calculator to work with rational numbers.\n",
    "Requirements:\n",
    "○ It should provide capability to add, subtract, divide and multiply rational\n",
    "numbers\n",
    "○ Create a method to compute GCD (this will come in handy during operations on\n",
    "rational)\n",
    "Add option to work with whole numbers which are also rational numbers i.e. (n/1)\n",
    "- achieve the above using auxiliary constructors\n",
    "- enable method overloading to enable each function to work with numbers and rational.\n",
    "'''"
   ]
  },
  {
   "cell_type": "code",
   "execution_count": 36,
   "metadata": {},
   "outputs": [],
   "source": [
    "def calculator(op1,op2,opr):\n",
    "    value=0.00\n",
    "    if(opr==1):\n",
    "        value= op1+ op2\n",
    "    elif(opr==2):       \n",
    "        value= op1- op2\n",
    "    elif(opr==3):        \n",
    "        value= op1/ op2\n",
    "    elif(opr==4):        \n",
    "        value= op1* op2\n",
    "    elif(opr==5):        \n",
    "        smallest= op2 if(op1> op2) else op1\n",
    "        while(smallest>=1):\n",
    "            if(op1% smallest==0 and op2% smallest==0):\n",
    "                print(\"GCD of {} and {} is {}\".format(op1,op2,smallest))\n",
    "                break\n",
    "            smallest=smallest-1   \n",
    "    else:\n",
    "        print(\"Invalid choice entered\")\n",
    "        return    \n",
    "    return value           \n",
    "            "
   ]
  },
  {
   "cell_type": "code",
   "execution_count": 37,
   "metadata": {},
   "outputs": [
    {
     "name": "stdout",
     "output_type": "stream",
     "text": [
      "Enter the choice.\n",
      " 1.Addition\n",
      " 2.Substraction\n",
      " 3.Division\n",
      " 4.Multiplication\n",
      " 5.GCD\n",
      "5\n",
      " Enter the first number 6\n",
      " Enter the second number 4\n",
      "GCD of 6 and 4 is 2\n"
     ]
    },
    {
     "data": {
      "text/plain": [
       "0.0"
      ]
     },
     "execution_count": 37,
     "metadata": {},
     "output_type": "execute_result"
    }
   ],
   "source": [
    "print(\"Enter the choice.\\n 1.Addition\\n 2.Substraction\\n 3.Division\\n 4.Multiplication\\n 5.GCD\")\n",
    "choice= int(input())\n",
    "number1= int(input(\" Enter the first number \"))\n",
    "number2= int(input(\" Enter the second number \"))\n",
    "calculator(number1,number2,choice)"
   ]
  },
  {
   "cell_type": "code",
   "execution_count": null,
   "metadata": {},
   "outputs": [],
   "source": [
    "'''\n",
    "Task 3:-\n",
    "1.Write a simple program to show inheritance in python.\n",
    "2.Write a simple program to show multiple inheritance in python.\n",
    "'''"
   ]
  },
  {
   "cell_type": "code",
   "execution_count": 40,
   "metadata": {},
   "outputs": [],
   "source": [
    "# simple program to show inheritance in python\n",
    "class Polygon:\n",
    "    def __init__(self, no_of_sides):\n",
    "        self.n = no_of_sides\n",
    "        self.sides = [0 for i in range(no_of_sides)]\n",
    "\n",
    "    def inputSides(self):\n",
    "        self.sides = [float(input(\"Enter side \"+str(i+1)+\" : \")) for i in range(self.n)]\n",
    "\n",
    "    def dispSides(self):\n",
    "        for i in range(self.n):\n",
    "            print(\"Side\",i+1,\"is\",self.sides[i])\n",
    "            \n",
    "class Triangle(Polygon):\n",
    "    def __init__(self):\n",
    "        Polygon.__init__(self,3)\n",
    "\n",
    "    def findArea(self):\n",
    "        a, b, c = self.sides\n",
    "        # calculate the semi-perimeter\n",
    "        s = (a + b + c) / 2\n",
    "        area = (s*(s-a)*(s-b)*(s-c)) ** 0.5\n",
    "        print('The area of the triangle is %0.2f' %area)            "
   ]
  },
  {
   "cell_type": "code",
   "execution_count": 41,
   "metadata": {},
   "outputs": [
    {
     "name": "stdout",
     "output_type": "stream",
     "text": [
      "Enter side 1 : 3\n",
      "Enter side 2 : 4\n",
      "Enter side 3 : 5\n",
      "Side 1 is 3.0\n",
      "Side 2 is 4.0\n",
      "Side 3 is 5.0\n",
      "The area of the triangle is 6.00\n"
     ]
    }
   ],
   "source": [
    "t = Triangle()\n",
    "t.inputSides()\n",
    "t.dispSides()\n",
    "t.findArea()"
   ]
  },
  {
   "cell_type": "code",
   "execution_count": 39,
   "metadata": {},
   "outputs": [
    {
     "name": "stdout",
     "output_type": "stream",
     "text": [
      "Geek1 23 Noida\n"
     ]
    }
   ],
   "source": [
    "# simple program to show multiple inheritance in python\n",
    "class Base(object): \n",
    "      \n",
    "    # Constructor \n",
    "    def __init__(self, name): \n",
    "        self.name = name \n",
    "  \n",
    "    # To get name \n",
    "    def getName(self): \n",
    "        return self.name \n",
    "  \n",
    "  \n",
    "# Inherited or Sub class (Note Person in bracket) \n",
    "class Child(Base): \n",
    "      \n",
    "    # Constructor \n",
    "    def __init__(self, name, age): \n",
    "        Base.__init__(self, name) \n",
    "        self.age = age \n",
    "  \n",
    "    # To get name \n",
    "    def getAge(self): \n",
    "        return self.age \n",
    "  \n",
    "\n",
    "\n",
    "class GrandChild(Child): \n",
    "      \n",
    "    # Constructor \n",
    "    def __init__(self, name, age, address): \n",
    "        Child.__init__(self, name, age) \n",
    "        self.address = address \n",
    "  \n",
    "    # To get address \n",
    "    def getAddress(self): \n",
    "        return self.address         \n",
    "  \n",
    " \n",
    "g = GrandChild(\"Geek1\", 23, \"Noida\")   \n",
    "print(g.getName(), g.getAge(), g.getAddress()) \n"
   ]
  },
  {
   "cell_type": "code",
   "execution_count": null,
   "metadata": {},
   "outputs": [],
   "source": [
    "'''\n",
    "Task 4:-\n",
    "Write a partial function to add three numbers in which one number is constant and two\n",
    "numbers can be passed as inputs and define another method which can take the partial\n",
    "function as input and squares the result.\n",
    "'''"
   ]
  },
  {
   "cell_type": "code",
   "execution_count": 46,
   "metadata": {},
   "outputs": [
    {
     "name": "stdout",
     "output_type": "stream",
     "text": [
      "2\n",
      "5\n",
      "The value of the sum is :64\n"
     ]
    }
   ],
   "source": [
    "from functools import *\n",
    "  \n",
    "# A normal function \n",
    "def add(a, b, c): \n",
    "    return a+ b+ c \n",
    "  \n",
    "# A partial function with c = 1 \n",
    "add_part = partial(add, c = 1) \n",
    "  \n",
    "# Calling partial function \n",
    "def square(x=add_part( int(input()), int(input())) ):\n",
    "    print(\"The value of the sum is :{}\".format(x*x))\n",
    "\n",
    "square() "
   ]
  },
  {
   "cell_type": "code",
   "execution_count": null,
   "metadata": {},
   "outputs": [],
   "source": [
    "'''\n",
    "Task 5:-\n",
    "Write a program to print the prices of 4 courses of Acadgild: Android-12999,Big Data\n",
    "Development-17999,Big Data Development-17999,Spark-19999 using match and add a\n",
    "default condition if the user enters any other course\n",
    "'''"
   ]
  },
  {
   "cell_type": "code",
   "execution_count": 84,
   "metadata": {},
   "outputs": [
    {
     "name": "stdout",
     "output_type": "stream",
     "text": [
      " Enter the course name Spark\n",
      "['Spark-19999,']\n"
     ]
    }
   ],
   "source": [
    "import re\n",
    "\n",
    "txt = 'Android-12999, Big Data Development-17999, Big Data Development-17999, Spark-19999,'\n",
    "\n",
    "search= input(\" Enter the course name \")\n",
    "x = re.findall(r\"{}-[0-9]*,\".format(search),txt)\n",
    "for val in x:\n",
    "    print(x)"
   ]
  },
  {
   "cell_type": "code",
   "execution_count": null,
   "metadata": {},
   "outputs": [],
   "source": []
  }
 ],
 "metadata": {
  "kernelspec": {
   "display_name": "Python 3",
   "language": "python",
   "name": "python3"
  },
  "language_info": {
   "codemirror_mode": {
    "name": "ipython",
    "version": 3
   },
   "file_extension": ".py",
   "mimetype": "text/x-python",
   "name": "python",
   "nbconvert_exporter": "python",
   "pygments_lexer": "ipython3",
   "version": "3.5.6"
  },
  "widgets": {
   "state": {},
   "version": "1.1.2"
  }
 },
 "nbformat": 4,
 "nbformat_minor": 1
}
